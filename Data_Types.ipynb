{
  "nbformat": 4,
  "nbformat_minor": 0,
  "metadata": {
    "colab": {
      "provenance": []
    },
    "kernelspec": {
      "name": "python3",
      "display_name": "Python 3"
    },
    "language_info": {
      "name": "python"
    }
  },
  "cells": [
    {
      "cell_type": "code",
      "execution_count": 2,
      "metadata": {
        "colab": {
          "base_uri": "https://localhost:8080/"
        },
        "id": "RDtu61i51cmO",
        "outputId": "8962e076-2c5d-4bdf-d94b-0907100355eb"
      },
      "outputs": [
        {
          "output_type": "execute_result",
          "data": {
            "text/plain": [
              "5"
            ]
          },
          "metadata": {},
          "execution_count": 2
        }
      ],
      "source": [
        "##int is a data types specifically for numbers \n",
        "a=5\n",
        "a"
      ]
    },
    {
      "cell_type": "code",
      "source": [
        "###float is for floating point number or a decimal point for a provided number or string \n",
        "b=4.6666666\n",
        "b\n"
      ],
      "metadata": {
        "colab": {
          "base_uri": "https://localhost:8080/"
        },
        "id": "Wo89N5Bc1rqK",
        "outputId": "0760c2fa-dea5-443b-92f1-5d79de445c79"
      },
      "execution_count": 3,
      "outputs": [
        {
          "output_type": "execute_result",
          "data": {
            "text/plain": [
              "4.6666666"
            ]
          },
          "metadata": {},
          "execution_count": 3
        }
      ]
    },
    {
      "cell_type": "code",
      "source": [
        "##String is a sentence or word, everything under double qoutes is a string\n",
        "str=\"My name is Amanpreet\"\n",
        "str\n"
      ],
      "metadata": {
        "colab": {
          "base_uri": "https://localhost:8080/",
          "height": 35
        },
        "id": "8Hn_QXud2KqK",
        "outputId": "804af155-52b1-4153-ae95-8e500f7d6414"
      },
      "execution_count": 4,
      "outputs": [
        {
          "output_type": "execute_result",
          "data": {
            "text/plain": [
              "'My name is Amanpreet'"
            ],
            "application/vnd.google.colaboratory.intrinsic+json": {
              "type": "string"
            }
          },
          "metadata": {},
          "execution_count": 4
        }
      ]
    },
    {
      "cell_type": "code",
      "source": [
        "##Lists are used to store multiple items in a single variable.\n",
        "list1=[4,2,2.0,89,45,\"aman\",2.00000000]\n",
        "list1\n"
      ],
      "metadata": {
        "colab": {
          "base_uri": "https://localhost:8080/"
        },
        "id": "AobEJAeU2YAP",
        "outputId": "b6e8c3f5-25ce-48d6-fd0a-fe33dd4e5f70"
      },
      "execution_count": 5,
      "outputs": [
        {
          "output_type": "execute_result",
          "data": {
            "text/plain": [
              "[4, 2, 2.0, 89, 45, 'aman', 2.0]"
            ]
          },
          "metadata": {},
          "execution_count": 5
        }
      ]
    },
    {
      "cell_type": "code",
      "source": [
        "##Set is one of 4 built-in data types in Python used to store collections of data\n",
        "set1={4,2,3.9,\"ak\"}\n",
        "set1"
      ],
      "metadata": {
        "colab": {
          "base_uri": "https://localhost:8080/"
        },
        "id": "NR0TNXgD22pv",
        "outputId": "c4cc19a8-8db3-461f-8a6a-01fb1c7aa7fb"
      },
      "execution_count": 6,
      "outputs": [
        {
          "output_type": "execute_result",
          "data": {
            "text/plain": [
              "{2, 3.9, 4, 'ak'}"
            ]
          },
          "metadata": {},
          "execution_count": 6
        }
      ]
    },
    {
      "cell_type": "code",
      "source": [
        "###Dictionaries are used to store data values in key:value pairs.\n",
        "dict1={1:\"aman\",2:3.099999999,3:5}\n",
        "dict1"
      ],
      "metadata": {
        "colab": {
          "base_uri": "https://localhost:8080/"
        },
        "id": "dAgjcG8J32hp",
        "outputId": "01efb0d8-8ca8-4631-ba4a-5c0d30233c3f"
      },
      "execution_count": 7,
      "outputs": [
        {
          "output_type": "execute_result",
          "data": {
            "text/plain": [
              "{1: 'aman', 2: 3.099999999, 3: 5}"
            ]
          },
          "metadata": {},
          "execution_count": 7
        }
      ]
    },
    {
      "cell_type": "code",
      "source": [],
      "metadata": {
        "id": "CTIIsn9A4-nA"
      },
      "execution_count": null,
      "outputs": []
    }
  ]
}